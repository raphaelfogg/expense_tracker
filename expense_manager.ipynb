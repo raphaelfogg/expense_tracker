{
 "cells": [
  {
   "cell_type": "code",
   "execution_count": 1,
   "id": "cf5f711a-8b6c-4c85-a74e-618d5ec8f5dc",
   "metadata": {},
   "outputs": [],
   "source": [
    "# Libraries and imports\n",
    "\n",
    "import csv\n",
    "import datetime\n",
    "import matplotlib.pyplot as plt"
   ]
  },
  {
   "cell_type": "code",
   "execution_count": 2,
   "id": "8139df47-1db6-42ba-b3bb-ddb36aaf14c3",
   "metadata": {},
   "outputs": [],
   "source": [
    "# Create a csv file for storage.\n",
    "\n",
    "csv_expense_storage = 'transaction.csv'"
   ]
  },
  {
   "cell_type": "code",
   "execution_count": 3,
   "id": "9fa7ac7b-61db-4986-8e28-83761d22ab78",
   "metadata": {},
   "outputs": [],
   "source": [
    "# Function 1: Adding a transaction.\n",
    "\n",
    "def add_transaction():\n",
    "    date = input('Enter current date (YYYY-MM-DD): ')\n",
    "    category = input('Enter type of expense (e.g. food): ')\n",
    "    description = input('Enter description: ')\n",
    "    amount = float(input('Enter the amount: '))\n",
    "\n",
    "    with open(csv_expense_storage, mode='a', newline= '') as file:\n",
    "        writer = csv.writer(file)\n",
    "        writer.writerow([date, category, description, amount])\n",
    "        print('Successful transaction!')"
   ]
  },
  {
   "cell_type": "code",
   "execution_count": 4,
   "id": "3b9b5a99-ec19-4614-80ee-c664f2274bfb",
   "metadata": {},
   "outputs": [],
   "source": [
    "# Function 2: View transactions.\n",
    "\n",
    "def view_transactions():\n",
    "    print(f\"\\n{'Date':<15} {'Category':<15} {'Description':<20} {'Amount':>10}\")\n",
    "    print('-'*60)\n",
    "\n",
    "    with open(csv_expense_storage, mode='r') as file:\n",
    "        reader = csv.reader(file)\n",
    "        for row in reader:\n",
    "            date, category, description, amount = row\n",
    "            print(f'{date:<15} {category:1<15} {description:<20} {amount:>10}')\n",
    "    print()\n"
   ]
  },
  {
   "cell_type": "code",
   "execution_count": 5,
   "id": "6ff705c8-fdab-4577-a4e5-767f42ae219c",
   "metadata": {},
   "outputs": [],
   "source": [
    "# Function 3: Generating a report\n",
    "\n",
    "def generate_report():\n",
    "    total_income = 0\n",
    "    total_expense = 0\n",
    "\n",
    "    with open(csv_expense_storage, mode='r') as file:\n",
    "        reader = csv.reader(file)\n",
    "        for row in reader:\n",
    "            amount = float(row[3])\n",
    "            if amount >0:\n",
    "                total_income += amount\n",
    "            else:\n",
    "                total_expense += amount\n",
    "\n",
    "    balance = total_income + total_expense\n",
    "    print(f\"\\nTotal Income: {total_income}\")\n",
    "    print(f\"Total Expenses: {abs(total_expense)}\")\n",
    "    print(f\"Net Balance: {balance}\\n\")    \n"
   ]
  },
  {
   "cell_type": "code",
   "execution_count": 6,
   "id": "1681d8a2-490f-4578-aa99-4d1373df508f",
   "metadata": {},
   "outputs": [],
   "source": [
    "# Function 4: Visualizing expenses\n",
    "\n",
    "\n",
    "# Function to visualize expenses\n",
    "def visualize_expenses():\n",
    "    categories = {}\n",
    "    \n",
    "    with open(csv_expense_storage, mode='r') as file:\n",
    "        reader = csv.reader(file)\n",
    "        next(reader)  # Skip the header row\n",
    "        for row in reader:\n",
    "            category = row[1]\n",
    "            amount = float(row[3])\n",
    "            if amount < 0:\n",
    "                categories[category] = categories.get(category, 0) + abs(amount)\n",
    "    \n",
    "    # Plotting the bar chart\n",
    "    if categories:\n",
    "        plt.bar(categories.keys(), categories.values())\n",
    "        plt.title(\"Expenses by Category\")\n",
    "        plt.xlabel(\"Category\")\n",
    "        plt.ylabel(\"Amount\")\n",
    "        plt.show()\n",
    "    else:\n",
    "        print(\"No expenses to visualize!\")\n"
   ]
  },
  {
   "cell_type": "code",
   "execution_count": 7,
   "id": "8455655f-e805-4902-a6c7-664f35bef149",
   "metadata": {},
   "outputs": [],
   "source": [
    "# Function 5: Main menu.\n",
    "\n",
    "def main():\n",
    "    while True:\n",
    "        print('\\n--- Your personal expense tracker ---')\n",
    "        print(\"1. Add Transaction\")\n",
    "        print(\"2. View Transactions\")\n",
    "        print(\"3. Generate Report\")\n",
    "        print(\"4. Visualize Expenses\")\n",
    "        print(\"5. Exit\")\n",
    "\n",
    "        choice = input('Choose and option: ')\n",
    "\n",
    "        if choice == '1':\n",
    "            add_transaction()\n",
    "        elif choice == '2':\n",
    "            view_transactions()\n",
    "        elif choice == '3':\n",
    "            generate_report()\n",
    "        elif choice == '4':\n",
    "            visualize_expenses()\n",
    "        elif choice == '5':\n",
    "            break\n",
    "        else:\n",
    "            print(\"Invalid choice, please try again!\")"
   ]
  },
  {
   "cell_type": "code",
   "execution_count": null,
   "id": "bb5654b5-f0cf-40b4-a07a-9ecd477136d4",
   "metadata": {},
   "outputs": [
    {
     "name": "stdout",
     "output_type": "stream",
     "text": [
      "\n",
      "--- Your personal expense tracker ---\n",
      "1. Add Transaction\n",
      "2. View Transactions\n",
      "3. Generate Report\n",
      "4. Visualize Expenses\n",
      "5. Exit\n"
     ]
    }
   ],
   "source": [
    "if __name__ == \"__main__\":\n",
    "    # Ensure the CSV file exists\n",
    "    try:\n",
    "        with open(csv_expense_storage, mode='x', newline='') as file:\n",
    "            writer = csv.writer(file)\n",
    "            writer.writerow([\"Date\", \"Category\", \"Description\", \"Amount\"])\n",
    "    except FileExistsError:\n",
    "        pass\n",
    "    \n",
    "    main()"
   ]
  },
  {
   "cell_type": "code",
   "execution_count": null,
   "id": "d0e188c8-1d4a-4988-bc91-8c85f13f7035",
   "metadata": {},
   "outputs": [],
   "source": []
  }
 ],
 "metadata": {
  "kernelspec": {
   "display_name": "Python 3 (ipykernel)",
   "language": "python",
   "name": "python3"
  },
  "language_info": {
   "codemirror_mode": {
    "name": "ipython",
    "version": 3
   },
   "file_extension": ".py",
   "mimetype": "text/x-python",
   "name": "python",
   "nbconvert_exporter": "python",
   "pygments_lexer": "ipython3",
   "version": "3.11.8"
  }
 },
 "nbformat": 4,
 "nbformat_minor": 5
}
